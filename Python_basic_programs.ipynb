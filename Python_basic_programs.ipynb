{
  "nbformat": 4,
  "nbformat_minor": 0,
  "metadata": {
    "colab": {
      "provenance": [],
      "authorship_tag": "ABX9TyODXua61PQuljrBxBjGxz/k",
      "include_colab_link": true
    },
    "kernelspec": {
      "name": "python3",
      "display_name": "Python 3"
    },
    "language_info": {
      "name": "python"
    }
  },
  "cells": [
    {
      "cell_type": "markdown",
      "metadata": {
        "id": "view-in-github",
        "colab_type": "text"
      },
      "source": [
        "<a href=\"https://colab.research.google.com/github/ranjana-muthukumar/PYTHON/blob/main/Python_basic_programs.ipynb\" target=\"_parent\"><img src=\"https://colab.research.google.com/assets/colab-badge.svg\" alt=\"Open In Colab\"/></a>"
      ]
    },
    {
      "cell_type": "code",
      "execution_count": null,
      "metadata": {
        "id": "tQxeNyEm5Fe8",
        "colab": {
          "base_uri": "https://localhost:8080/"
        },
        "outputId": "7f195ba9-89a3-494d-a1f8-2754d1071be4"
      },
      "outputs": [
        {
          "output_type": "stream",
          "name": "stdout",
          "text": [
            "Your Name: Ranjana\n",
            "Enter Your Branch: Computer Science\n",
            "Interest on the screen: Designing\n"
          ]
        }
      ],
      "source": [
        "#Ranjana M 231114042\n",
        "#01\n",
        "name=\"Ranjana\"\n",
        "branch=\"Computer Science\"\n",
        "interest_field=\"Designing\"\n",
        "print(\"Your Name:\",name)\n",
        "print(\"Enter Your Branch:\",branch)\n",
        "print(\"Interest on the screen:\",interest_field)"
      ]
    },
    {
      "cell_type": "code",
      "source": [
        "#to print type of an input\n",
        "#02\n",
        "str=input()\n",
        "print(type(str))"
      ],
      "metadata": {
        "colab": {
          "base_uri": "https://localhost:8080/"
        },
        "id": "8aDv3xEcVbGo",
        "outputId": "e7b6067a-a953-4a56-b9f5-76d486600ba8"
      },
      "execution_count": null,
      "outputs": [
        {
          "output_type": "stream",
          "name": "stdout",
          "text": [
            "Python\n",
            "<class 'str'>\n"
          ]
        }
      ]
    },
    {
      "cell_type": "code",
      "source": [
        "#03\n",
        "#to print area and perimeter of a rectangle\n",
        "l=float(input(\"Length of a rectangle:\"))\n",
        "b=float(input(\"Breadth of a rectangle:\"))\n",
        "print(\"Area of a rectangle:\",l*b)\n",
        "print(\"Perimeter of a rectangle:\",2*(l+b))"
      ],
      "metadata": {
        "id": "n03DbNFQXeo1",
        "colab": {
          "base_uri": "https://localhost:8080/"
        },
        "outputId": "6b149b46-9af6-46cc-8655-e181d530e722"
      },
      "execution_count": null,
      "outputs": [
        {
          "output_type": "stream",
          "name": "stdout",
          "text": [
            "Length of a rectangle:4.5\n",
            "Breadth of a rectangle:2.5\n",
            "Area of a rectangle: 11.25\n",
            "Perimeter of a rectangle: 14.0\n"
          ]
        }
      ]
    },
    {
      "cell_type": "code",
      "source": [
        "#to calculate area of a circle\n",
        "#04\n",
        "r=float(input(\"radius of a circle:\"))\n",
        "pi=3.1415926536\n",
        "area=pi*r*r\n",
        "print(\"Area of a circle is\",area)"
      ],
      "metadata": {
        "colab": {
          "base_uri": "https://localhost:8080/"
        },
        "id": "CQLBBCqjgdWg",
        "outputId": "910b1571-ff81-46c5-c86a-d4094b08aa78"
      },
      "execution_count": null,
      "outputs": [
        {
          "output_type": "stream",
          "name": "stdout",
          "text": [
            "radius of a circle:3.5\n",
            "Area of a circle is 38.484510006600004\n"
          ]
        }
      ]
    },
    {
      "cell_type": "code",
      "source": [
        "\n",
        "import math\n",
        "pi=math.pi\n",
        "r=float(input())\n",
        "Area=pi*r*r\n",
        "print(Area)"
      ],
      "metadata": {
        "colab": {
          "base_uri": "https://localhost:8080/"
        },
        "id": "ebKJTPkQjRCU",
        "outputId": "e43d356b-f395-4fab-f80c-7053d7a581dd"
      },
      "execution_count": null,
      "outputs": [
        {
          "output_type": "stream",
          "name": "stdout",
          "text": [
            "3.5\n",
            "38.48451000647496\n"
          ]
        }
      ]
    },
    {
      "cell_type": "code",
      "source": [
        "#to find product of two integers\n",
        "#05\n",
        "num1=int(input(\"Enter Number1:\"))\n",
        "num2=int(input(\"Enter Number2:\"))\n",
        "product=num1*num2\n",
        "print(\"The Product of Two Numbers is\",product)"
      ],
      "metadata": {
        "colab": {
          "base_uri": "https://localhost:8080/"
        },
        "id": "CLROg2exkRAP",
        "outputId": "6165e690-1600-45e6-e520-9db7418d31be"
      },
      "execution_count": null,
      "outputs": [
        {
          "output_type": "stream",
          "name": "stdout",
          "text": [
            "Enter Number1:60\n",
            "Enter Number2:450\n",
            "The Product of Two Numbers is 27000\n"
          ]
        }
      ]
    },
    {
      "cell_type": "code",
      "source": [
        "\n",
        "#06\n",
        "#to print sum of two numbers\n",
        "a=float(input(\"Enter Number1:\"))\n",
        "b=float(input(\"Enter Number2:\"))\n",
        "sum=a+b\n",
        "print(\"The Sum of Two Numbers is\",sum)"
      ],
      "metadata": {
        "colab": {
          "base_uri": "https://localhost:8080/"
        },
        "id": "nov_PeSsqpSo",
        "outputId": "9e1439bc-a2d7-40b9-85d4-8e885d721769"
      },
      "execution_count": null,
      "outputs": [
        {
          "output_type": "stream",
          "name": "stdout",
          "text": [
            "Enter Number1:45.8\n",
            "Enter Number2:54.7\n",
            "The Sum of Two Numbers is 100.5\n"
          ]
        }
      ]
    },
    {
      "cell_type": "code",
      "source": [
        "\n",
        "#07\n",
        "#to print average mark\n",
        "mrk1=int(input(\"Enter the mark scored in English:\"))\n",
        "mrk2=int(input(\"Enter the mark scored in Physics:\"))\n",
        "mrk3=int(input(\"Enter the mark scored in Maths:\"))\n",
        "mrk4=int(input(\"Enter the mark scored in Biology:\"))\n",
        "total=mrk1 + mrk2 + mrk3 + mrk4\n",
        "print(\"Total=\",total)\n",
        "avg=total/4\n",
        "print(\"Average=\",avg)"
      ],
      "metadata": {
        "colab": {
          "base_uri": "https://localhost:8080/"
        },
        "id": "lm8mmaaAsc5Y",
        "outputId": "6171a2c4-6942-4104-8cf2-051629091724"
      },
      "execution_count": null,
      "outputs": [
        {
          "output_type": "stream",
          "name": "stdout",
          "text": [
            "Enter the mark scored in English:92\n",
            "Enter the mark scored in Physics:80\n",
            "Enter the mark scored in Maths:75\n",
            "Enter the mark scored in Biology:95\n",
            "Total= 342\n",
            "Average= 85.5\n"
          ]
        }
      ]
    },
    {
      "cell_type": "code",
      "source": [
        "\n",
        "#08\n",
        "#to print number of years left for retirement\n",
        "age=int(input(\"Enter Your Age:\"))\n",
        "yrs=65-age\n",
        "print(yrs,\"years left for your retirement\")"
      ],
      "metadata": {
        "colab": {
          "base_uri": "https://localhost:8080/"
        },
        "id": "0axXBFLYxK5z",
        "outputId": "2688d63e-17a9-4b11-8e75-b0daa201495d"
      },
      "execution_count": null,
      "outputs": [
        {
          "output_type": "stream",
          "name": "stdout",
          "text": [
            "Enter Your Age:46\n",
            "19 years left for your retirement\n"
          ]
        }
      ]
    },
    {
      "cell_type": "code",
      "source": [
        "#09\n",
        "#conversion of celsius to fahrenheit\n",
        "Temp_C=float(input(\"Celsius:\"))\n",
        "Temp_F=(9/5)*Temp_C + 32\n",
        "print(\"Fahrenheit=\",Temp_F)"
      ],
      "metadata": {
        "colab": {
          "base_uri": "https://localhost:8080/"
        },
        "id": "l6rfIQJEzbnj",
        "outputId": "9a5f482a-856b-4046-8a5a-adf03640e8a4"
      },
      "execution_count": null,
      "outputs": [
        {
          "output_type": "stream",
          "name": "stdout",
          "text": [
            "Celsius:32\n",
            "Fahrenheit= 89.6\n"
          ]
        }
      ]
    },
    {
      "cell_type": "code",
      "source": [
        "#10\n",
        "#to print \"hi welcome to BU username\"\n",
        "print(input(\"Enter Username:\"))\n",
        "print(\"Hi welcome to BU Username\")"
      ],
      "metadata": {
        "id": "iquopINj48Bm",
        "colab": {
          "base_uri": "https://localhost:8080/"
        },
        "outputId": "7f86c48a-a331-473e-957b-00010dc7feb3"
      },
      "execution_count": null,
      "outputs": [
        {
          "output_type": "stream",
          "name": "stdout",
          "text": [
            "Enter Username:Ranjana\n",
            "Ranjana\n",
            "Hi welcome to BU Username\n"
          ]
        }
      ]
    },
    {
      "cell_type": "code",
      "source": [
        "#11\n",
        "#to display square of an integer\n",
        "num=int(input(\"Enter a Number:\"))\n",
        "print(\"Square of the number is\",num**2)"
      ],
      "metadata": {
        "colab": {
          "base_uri": "https://localhost:8080/"
        },
        "id": "9VR0vjRBlHHS",
        "outputId": "ca0e438e-6db2-4cf4-9a8e-bcada4110e46"
      },
      "execution_count": null,
      "outputs": [
        {
          "output_type": "stream",
          "name": "stdout",
          "text": [
            "Enter a Number:15\n",
            "Square of the number is 225\n"
          ]
        }
      ]
    },
    {
      "cell_type": "code",
      "source": [
        "#12\n",
        "#to display the cube of a floatong number\n",
        "num=float(input(\"Enter a Number:\"))\n",
        "print(\"Cube of the floating number is\",num**3)"
      ],
      "metadata": {
        "colab": {
          "base_uri": "https://localhost:8080/"
        },
        "id": "YE1TnKEnljxA",
        "outputId": "d8173e23-e3f4-4555-b8e9-f35918018827"
      },
      "execution_count": null,
      "outputs": [
        {
          "output_type": "stream",
          "name": "stdout",
          "text": [
            "Enter a Number:2.5\n",
            "Cube of the floating number is 15.625\n"
          ]
        }
      ]
    },
    {
      "cell_type": "code",
      "source": [
        "#13\n",
        "#to swap two integer using third variable\n",
        "A=10\n",
        "B=5\n",
        "#assuming new Variable to swaps the values\n",
        "Var=A\n",
        "A=B\n",
        "B=Var\n",
        "print(\"The Value of A after swapping is\",A)\n",
        "print(\"The Value of B after swapping is\",B)"
      ],
      "metadata": {
        "colab": {
          "base_uri": "https://localhost:8080/"
        },
        "id": "wsuAdXgUl9L_",
        "outputId": "0c0e17ae-8d8a-4741-ed3c-52c7e49069ed"
      },
      "execution_count": null,
      "outputs": [
        {
          "output_type": "stream",
          "name": "stdout",
          "text": [
            "The Value of A after swapping is 5\n",
            "The Value of B after swapping is 10\n"
          ]
        }
      ]
    },
    {
      "cell_type": "code",
      "source": [
        "\n",
        "\n",
        "#14\n",
        "#to swap two integers without using third variable\n",
        "i=25\n",
        "j=26\n",
        "#swapping two values\n",
        "i,j=j,i\n",
        "print(\"The value of i after swapping is\",i)\n",
        "print(\"The value of j after swapping is\",j)"
      ],
      "metadata": {
        "colab": {
          "base_uri": "https://localhost:8080/"
        },
        "id": "QmhjsWtln_LQ",
        "outputId": "7b6ccc1f-fd19-4c0e-8888-0264af72cea9"
      },
      "execution_count": null,
      "outputs": [
        {
          "output_type": "stream",
          "name": "stdout",
          "text": [
            "The value of i after swapping is 26\n",
            "The value of j after swapping is 25\n"
          ]
        }
      ]
    },
    {
      "cell_type": "code",
      "source": [
        "\n",
        "#15\n",
        "numbers=(1,2,3,4,5,6,7,8,9,10)\n",
        "count_odd=0\n",
        "count_even=0\n",
        "for x in numbers:\n",
        "      if not x%2:\n",
        "            count_even+=1\n",
        "      else:\n",
        "            count_odd+=1\n",
        "print(\"Number of even numbers:\",count_even)\n",
        "print(\"Number of odd numbers:\",count_odd)"
      ],
      "metadata": {
        "id": "V8Nu2TWMpTHF",
        "colab": {
          "base_uri": "https://localhost:8080/"
        },
        "outputId": "d1535992-553c-49a7-d9d1-dbd1b0c6c29c"
      },
      "execution_count": null,
      "outputs": [
        {
          "output_type": "stream",
          "name": "stdout",
          "text": [
            "Number of even numbers: 5\n",
            "Number of odd numbers: 5\n"
          ]
        }
      ]
    },
    {
      "cell_type": "code",
      "source": [
        "#16\n",
        "#to print fibonacci series between 0 to 50\n",
        "def fib(n):\n",
        "    a=0\n",
        "    b=1\n",
        "    if n==1:\n",
        "       print(b)\n",
        "    else:\n",
        "       print(a)\n",
        "       print(b)\n",
        "       for i in range(2,n):\n",
        "           c=0\n",
        "           c=a+b\n",
        "           a=b\n",
        "           b=c\n",
        "           if c>n:\n",
        "              break\n",
        "           else:\n",
        "              print(c)\n",
        "x=int(input(\"Enter Any Number:\"))\n",
        "if x<0:\n",
        "    print(\"Series must have positive values\")\n",
        "else:\n",
        "    fib(x)"
      ],
      "metadata": {
        "id": "i4BAsNSQJ4Y2",
        "colab": {
          "base_uri": "https://localhost:8080/"
        },
        "outputId": "73f8c0b8-714e-4b83-a216-394457eaa6ca"
      },
      "execution_count": null,
      "outputs": [
        {
          "output_type": "stream",
          "name": "stdout",
          "text": [
            "Enter Any Number:50\n",
            "0\n",
            "1\n",
            "1\n",
            "2\n",
            "3\n",
            "5\n",
            "8\n",
            "13\n",
            "21\n",
            "34\n"
          ]
        }
      ]
    },
    {
      "cell_type": "code",
      "source": [
        "#17\n",
        "#to check whether an alphabet is a vowel or consonant\n",
        "ch=input(\"Enter a character:\")\n",
        "if(ch=='A'or ch=='a' or ch=='E' or ch=='e' or ch=='I' or ch=='i' or ch=='O' or ch=='o' or ch=='U' or ch=='u'):\n",
        "   print(ch,\"is a vowel\")\n",
        "else:\n",
        "   print(ch,\"is a consonant\")"
      ],
      "metadata": {
        "colab": {
          "base_uri": "https://localhost:8080/"
        },
        "id": "jbt4a2TiIzvF",
        "outputId": "9e689e00-58ce-4034-b855-0e30c2d54c4e"
      },
      "execution_count": null,
      "outputs": [
        {
          "output_type": "stream",
          "name": "stdout",
          "text": [
            "Enter a character:a\n",
            "a is a vowel\n"
          ]
        }
      ]
    },
    {
      "cell_type": "code",
      "source": [
        "#18\n",
        "#to print a numbers in ascending order\n",
        "numbers=[8,9,5,7,3,1,2,4,6]\n",
        "print(numbers.sort())\n",
        "print(numbers)"
      ],
      "metadata": {
        "colab": {
          "base_uri": "https://localhost:8080/"
        },
        "id": "fOp-Rl1FJuay",
        "outputId": "cea06ca4-17f9-45de-8149-ae67c195879d"
      },
      "execution_count": null,
      "outputs": [
        {
          "output_type": "stream",
          "name": "stdout",
          "text": [
            "None\n",
            "[1, 2, 3, 4, 5, 6, 7, 8, 9]\n"
          ]
        }
      ]
    },
    {
      "cell_type": "code",
      "source": [
        "#19\n",
        "#to print odd numbers from 1 to 25\n",
        "for num in range(1,25):\n",
        "    if num%2!=0:\n",
        "       print(num,end=\" \")"
      ],
      "metadata": {
        "colab": {
          "base_uri": "https://localhost:8080/"
        },
        "id": "kwoT9wnIKDcf",
        "outputId": "3fa73450-3eb4-4de4-9cfe-345c9015a9f2"
      },
      "execution_count": null,
      "outputs": [
        {
          "output_type": "stream",
          "name": "stdout",
          "text": [
            "1 3 5 7 9 11 13 15 17 19 21 23 "
          ]
        }
      ]
    },
    {
      "cell_type": "code",
      "source": [
        "#20(b)\n",
        "#if score is out of range print an error message\n",
        "x=float(input(\"Enter a score:\"))\n",
        "if x < 1.0:\n",
        "   print(x)\n",
        "else:\n",
        "   print(\"Error! Please enter score within the range\")"
      ],
      "metadata": {
        "colab": {
          "base_uri": "https://localhost:8080/"
        },
        "id": "fs7m_MB8Kejs",
        "outputId": "931df8fa-3c58-4576-cf07-724edeee8280"
      },
      "execution_count": null,
      "outputs": [
        {
          "output_type": "stream",
          "name": "stdout",
          "text": [
            "Enter a score:2.5\n",
            "Error! Please enter score within the range\n"
          ]
        }
      ]
    },
    {
      "cell_type": "code",
      "source": [
        "#20(c)\n",
        "#to print a grade for the score\n",
        "Score=input(\"Enter a score:\")\n",
        "x=float(Score)\n",
        "if x>=0.9 and x<1.0:\n",
        "   print(\"A\")\n",
        "elif x>=0.8 and x<0.9:\n",
        "   print(\"B\")\n",
        "elif x>=0.7 and x<0.8:\n",
        "   print(\"C\")\n",
        "elif x>=0.6 and x<0.7:\n",
        "   print(\"D\")\n",
        "elif x<0.6:\n",
        "   print(\"E\")\n",
        "else:\n",
        "   print(\"Error!\")"
      ],
      "metadata": {
        "colab": {
          "base_uri": "https://localhost:8080/"
        },
        "id": "Gud3zDyzLYWx",
        "outputId": "70b799c2-d1f7-4a00-e4d9-34b854d9c5e6"
      },
      "execution_count": null,
      "outputs": [
        {
          "output_type": "stream",
          "name": "stdout",
          "text": [
            "Enter a score:0.8\n",
            "B\n"
          ]
        }
      ]
    }
  ]
}