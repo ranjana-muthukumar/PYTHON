{
  "nbformat": 4,
  "nbformat_minor": 0,
  "metadata": {
    "colab": {
      "private_outputs": true,
      "provenance": [],
      "authorship_tag": "ABX9TyNjjgRFet3a+QnX5bshb5rb",
      "include_colab_link": true
    },
    "kernelspec": {
      "name": "python3",
      "display_name": "Python 3"
    },
    "language_info": {
      "name": "python"
    }
  },
  "cells": [
    {
      "cell_type": "markdown",
      "metadata": {
        "id": "view-in-github",
        "colab_type": "text"
      },
      "source": [
        "<a href=\"https://colab.research.google.com/github/ranjana-muthukumar/PYTHON/blob/main/def()_function.ipynb\" target=\"_parent\"><img src=\"https://colab.research.google.com/assets/colab-badge.svg\" alt=\"Open In Colab\"/></a>"
      ]
    },
    {
      "cell_type": "code",
      "execution_count": null,
      "metadata": {
        "id": "YzF2KgFO2ury"
      },
      "outputs": [],
      "source": [
        "#code to remove duplicate elements in a list using def() function\n",
        "def remove_adjacent(nums):\n",
        "   result=[]\n",
        "   for num in nums:\n",
        "      if len(result)==0 or num!=result[-1]:\n",
        "         result.append(num)\n",
        "   return result\n",
        "\n",
        "#declaring a lists\n",
        "lists=[[1,2,3,3,4],[25,25,26,27,27],[]]\n",
        "for list in lists:\n",
        "    print(remove_adjacent(list))"
      ]
    }
  ]
}